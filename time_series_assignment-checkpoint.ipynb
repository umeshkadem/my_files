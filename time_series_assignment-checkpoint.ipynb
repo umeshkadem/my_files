{
 "cells": [
  {
   "cell_type": "code",
   "execution_count": 9,
   "id": "1abe1823-8b24-452f-a589-3906e845a8a7",
   "metadata": {},
   "outputs": [
    {
     "name": "stdout",
     "output_type": "stream",
     "text": [
      "Requirement already satisfied: pandas in c:\\users\\ku_0373\\appdata\\local\\programs\\python\\python310\\lib\\site-packages (2.2.1)\n",
      "Collecting pandas\n",
      "  Downloading pandas-2.2.2-cp310-cp310-win_amd64.whl.metadata (19 kB)\n",
      "Requirement already satisfied: pandas_datareader in c:\\users\\ku_0373\\appdata\\local\\programs\\python\\python310\\lib\\site-packages (0.10.0)\n",
      "Requirement already satisfied: numpy>=1.22.4 in c:\\users\\ku_0373\\appdata\\local\\programs\\python\\python310\\lib\\site-packages (from pandas) (1.26.4)\n",
      "Requirement already satisfied: python-dateutil>=2.8.2 in c:\\users\\ku_0373\\appdata\\local\\programs\\python\\python310\\lib\\site-packages (from pandas) (2.9.0.post0)\n",
      "Requirement already satisfied: pytz>=2020.1 in c:\\users\\ku_0373\\appdata\\local\\programs\\python\\python310\\lib\\site-packages (from pandas) (2024.1)\n",
      "Requirement already satisfied: tzdata>=2022.7 in c:\\users\\ku_0373\\appdata\\local\\programs\\python\\python310\\lib\\site-packages (from pandas) (2024.1)\n",
      "Requirement already satisfied: lxml in c:\\users\\ku_0373\\appdata\\local\\programs\\python\\python310\\lib\\site-packages (from pandas_datareader) (5.1.0)\n",
      "Requirement already satisfied: requests>=2.19.0 in c:\\users\\ku_0373\\appdata\\local\\programs\\python\\python310\\lib\\site-packages (from pandas_datareader) (2.31.0)\n",
      "Requirement already satisfied: six>=1.5 in c:\\users\\ku_0373\\appdata\\local\\programs\\python\\python310\\lib\\site-packages (from python-dateutil>=2.8.2->pandas) (1.16.0)\n",
      "Requirement already satisfied: charset-normalizer<4,>=2 in c:\\users\\ku_0373\\appdata\\local\\programs\\python\\python310\\lib\\site-packages (from requests>=2.19.0->pandas_datareader) (3.3.2)\n",
      "Requirement already satisfied: idna<4,>=2.5 in c:\\users\\ku_0373\\appdata\\local\\programs\\python\\python310\\lib\\site-packages (from requests>=2.19.0->pandas_datareader) (3.6)\n",
      "Requirement already satisfied: urllib3<3,>=1.21.1 in c:\\users\\ku_0373\\appdata\\local\\programs\\python\\python310\\lib\\site-packages (from requests>=2.19.0->pandas_datareader) (2.2.1)\n",
      "Requirement already satisfied: certifi>=2017.4.17 in c:\\users\\ku_0373\\appdata\\local\\programs\\python\\python310\\lib\\site-packages (from requests>=2.19.0->pandas_datareader) (2024.2.2)\n",
      "Downloading pandas-2.2.2-cp310-cp310-win_amd64.whl (11.6 MB)\n",
      "   ---------------------------------------- 0.0/11.6 MB ? eta -:--:--\n",
      "   ---------------------------------------- 0.0/11.6 MB 991.0 kB/s eta 0:00:12\n",
      "    --------------------------------------- 0.2/11.6 MB 1.8 MB/s eta 0:00:07\n",
      "   - -------------------------------------- 0.3/11.6 MB 2.3 MB/s eta 0:00:05\n",
      "   - -------------------------------------- 0.3/11.6 MB 2.0 MB/s eta 0:00:06\n",
      "   -- ------------------------------------- 0.7/11.6 MB 2.8 MB/s eta 0:00:04\n",
      "   --- ------------------------------------ 0.9/11.6 MB 3.2 MB/s eta 0:00:04\n",
      "   --- ------------------------------------ 1.0/11.6 MB 3.0 MB/s eta 0:00:04\n",
      "   ---- ----------------------------------- 1.4/11.6 MB 3.5 MB/s eta 0:00:03\n",
      "   ----- ---------------------------------- 1.5/11.6 MB 3.5 MB/s eta 0:00:03\n",
      "   ----- ---------------------------------- 1.7/11.6 MB 3.6 MB/s eta 0:00:03\n",
      "   ------ --------------------------------- 1.9/11.6 MB 3.7 MB/s eta 0:00:03\n",
      "   ------- -------------------------------- 2.1/11.6 MB 3.6 MB/s eta 0:00:03\n",
      "   ------- -------------------------------- 2.3/11.6 MB 3.6 MB/s eta 0:00:03\n",
      "   -------- ------------------------------- 2.5/11.6 MB 3.6 MB/s eta 0:00:03\n",
      "   --------- ------------------------------ 2.7/11.6 MB 3.6 MB/s eta 0:00:03\n",
      "   --------- ------------------------------ 2.8/11.6 MB 3.7 MB/s eta 0:00:03\n",
      "   ---------- ----------------------------- 3.0/11.6 MB 3.6 MB/s eta 0:00:03\n",
      "   ---------- ----------------------------- 3.1/11.6 MB 3.6 MB/s eta 0:00:03\n",
      "   ----------- ---------------------------- 3.3/11.6 MB 3.5 MB/s eta 0:00:03\n",
      "   ----------- ---------------------------- 3.4/11.6 MB 3.5 MB/s eta 0:00:03\n",
      "   ------------ --------------------------- 3.5/11.6 MB 3.5 MB/s eta 0:00:03\n",
      "   ------------ --------------------------- 3.7/11.6 MB 3.5 MB/s eta 0:00:03\n",
      "   ------------- -------------------------- 3.9/11.6 MB 3.4 MB/s eta 0:00:03\n",
      "   ------------- -------------------------- 4.0/11.6 MB 3.4 MB/s eta 0:00:03\n",
      "   -------------- ------------------------- 4.2/11.6 MB 3.5 MB/s eta 0:00:03\n",
      "   -------------- ------------------------- 4.3/11.6 MB 3.4 MB/s eta 0:00:03\n",
      "   --------------- ------------------------ 4.5/11.6 MB 3.5 MB/s eta 0:00:03\n",
      "   ---------------- ----------------------- 4.7/11.6 MB 3.5 MB/s eta 0:00:02\n",
      "   ---------------- ----------------------- 4.9/11.6 MB 3.5 MB/s eta 0:00:02\n",
      "   ----------------- ---------------------- 5.1/11.6 MB 3.5 MB/s eta 0:00:02\n",
      "   ------------------ --------------------- 5.3/11.6 MB 3.6 MB/s eta 0:00:02\n",
      "   ------------------- -------------------- 5.6/11.6 MB 3.6 MB/s eta 0:00:02\n",
      "   ------------------- -------------------- 5.7/11.6 MB 3.6 MB/s eta 0:00:02\n",
      "   -------------------- ------------------- 6.0/11.6 MB 3.6 MB/s eta 0:00:02\n",
      "   --------------------- ------------------ 6.2/11.6 MB 3.6 MB/s eta 0:00:02\n",
      "   ---------------------- ----------------- 6.4/11.6 MB 3.7 MB/s eta 0:00:02\n",
      "   ---------------------- ----------------- 6.6/11.6 MB 3.7 MB/s eta 0:00:02\n",
      "   ----------------------- ---------------- 6.9/11.6 MB 3.7 MB/s eta 0:00:02\n",
      "   ------------------------ --------------- 7.1/11.6 MB 3.7 MB/s eta 0:00:02\n",
      "   ------------------------- -------------- 7.3/11.6 MB 3.7 MB/s eta 0:00:02\n",
      "   ------------------------- -------------- 7.5/11.6 MB 3.7 MB/s eta 0:00:02\n",
      "   -------------------------- ------------- 7.7/11.6 MB 3.7 MB/s eta 0:00:02\n",
      "   --------------------------- ------------ 7.9/11.6 MB 3.7 MB/s eta 0:00:01\n",
      "   --------------------------- ------------ 8.1/11.6 MB 3.8 MB/s eta 0:00:01\n",
      "   ---------------------------- ----------- 8.3/11.6 MB 3.8 MB/s eta 0:00:01\n",
      "   ----------------------------- ---------- 8.5/11.6 MB 3.8 MB/s eta 0:00:01\n",
      "   ------------------------------ --------- 8.8/11.6 MB 3.8 MB/s eta 0:00:01\n",
      "   ------------------------------ --------- 9.0/11.6 MB 3.8 MB/s eta 0:00:01\n",
      "   ------------------------------- -------- 9.2/11.6 MB 3.8 MB/s eta 0:00:01\n",
      "   -------------------------------- ------- 9.4/11.6 MB 3.8 MB/s eta 0:00:01\n",
      "   --------------------------------- ------ 9.6/11.6 MB 3.9 MB/s eta 0:00:01\n",
      "   --------------------------------- ------ 9.9/11.6 MB 3.9 MB/s eta 0:00:01\n",
      "   ---------------------------------- ----- 10.1/11.6 MB 3.9 MB/s eta 0:00:01\n",
      "   ----------------------------------- ---- 10.2/11.6 MB 3.9 MB/s eta 0:00:01\n",
      "   ----------------------------------- ---- 10.4/11.6 MB 4.0 MB/s eta 0:00:01\n",
      "   ------------------------------------ --- 10.6/11.6 MB 4.1 MB/s eta 0:00:01\n",
      "   ------------------------------------- -- 10.9/11.6 MB 4.0 MB/s eta 0:00:01\n",
      "   -------------------------------------- - 11.1/11.6 MB 4.0 MB/s eta 0:00:01\n",
      "   -------------------------------------- - 11.3/11.6 MB 4.0 MB/s eta 0:00:01\n",
      "   ---------------------------------------  11.6/11.6 MB 4.0 MB/s eta 0:00:01\n",
      "   ---------------------------------------  11.6/11.6 MB 4.0 MB/s eta 0:00:01\n",
      "   ---------------------------------------- 11.6/11.6 MB 3.9 MB/s eta 0:00:00\n",
      "Installing collected packages: pandas\n",
      "  Attempting uninstall: pandas\n",
      "    Found existing installation: pandas 2.2.1\n",
      "    Uninstalling pandas-2.2.1:\n",
      "      Successfully uninstalled pandas-2.2.1\n",
      "Successfully installed pandas-2.2.2\n",
      "Note: you may need to restart the kernel to use updated packages.\n"
     ]
    },
    {
     "name": "stderr",
     "output_type": "stream",
     "text": [
      "  WARNING: Failed to remove contents in a temporary directory 'C:\\Users\\KU_0373\\AppData\\Local\\Programs\\Python\\Python310\\Lib\\site-packages\\~andas.libs'.\n",
      "  You can safely remove it manually.\n",
      "  WARNING: Failed to remove contents in a temporary directory 'C:\\Users\\KU_0373\\AppData\\Local\\Programs\\Python\\Python310\\Lib\\site-packages\\~andas'.\n",
      "  You can safely remove it manually.\n"
     ]
    }
   ],
   "source": [
    "pip install --upgrade pandas pandas_datareader"
   ]
  },
  {
   "cell_type": "code",
   "execution_count": 4,
   "id": "fdea672e-8aa1-4ff1-a5a2-5053c7a98165",
   "metadata": {},
   "outputs": [],
   "source": [
    "import pandas_datareader as pdr\n",
    "import pandas as pd\n",
    "import numpy as np"
   ]
  },
  {
   "cell_type": "code",
   "execution_count": 10,
   "id": "5e3f0f02-35cc-4770-bd4a-00d1e93292e1",
   "metadata": {},
   "outputs": [
    {
     "name": "stdout",
     "output_type": "stream",
     "text": [
      "pandas: 2.2.1\n",
      "pandas_datareader: 0.10.0\n",
      "An error occurred: 'NoneType' object has no attribute 'group'\n"
     ]
    }
   ],
   "source": [
    "import pandas_datareader as pdr\n",
    "import datetime\n",
    "import pandas as pd\n",
    "\n",
    "# Check versions\n",
    "print(\"pandas:\", pd.__version__)\n",
    "print(\"pandas_datareader:\", pdr.__version__)\n",
    "\n",
    "# Define the time period for the data\n",
    "start_date = datetime.datetime(2020, 1, 1)\n",
    "end_date = datetime.datetime(2023, 6, 1)\n",
    "\n",
    "try:\n",
    "    # Fetch the stock data\n",
    "    msft_data = pdr.data.DataReader('MSFT', 'yahoo', start_date, end_date)\n",
    "\n",
    "    # Display the data\n",
    "    print(msft_data.head())\n",
    "except Exception as e:\n",
    "    print(f\"An error occurred: {e}\")\n"
   ]
  },
  {
   "cell_type": "code",
   "execution_count": null,
   "id": "49c91739-5d94-4551-906b-c719eb907e6d",
   "metadata": {},
   "outputs": [],
   "source": []
  }
 ],
 "metadata": {
  "kernelspec": {
   "display_name": "Python 3 (ipykernel)",
   "language": "python",
   "name": "python3"
  },
  "language_info": {
   "codemirror_mode": {
    "name": "ipython",
    "version": 3
   },
   "file_extension": ".py",
   "mimetype": "text/x-python",
   "name": "python",
   "nbconvert_exporter": "python",
   "pygments_lexer": "ipython3",
   "version": "3.10.5"
  }
 },
 "nbformat": 4,
 "nbformat_minor": 5
}
