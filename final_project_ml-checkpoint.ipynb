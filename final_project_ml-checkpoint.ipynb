{
 "cells": [
  {
   "cell_type": "markdown",
   "id": "3339503c-df99-4349-a239-d12f3f0102d9",
   "metadata": {},
   "source": [
    "# Customer Segmentation/Forecasting"
   ]
  },
  {
   "cell_type": "markdown",
   "id": "18c04e32-59c9-4bd3-bf21-3c749d47c61a",
   "metadata": {},
   "source": [
    "# EDA"
   ]
  },
  {
   "cell_type": "code",
   "execution_count": 3,
   "id": "2d146372-b840-4899-8074-d28b700509fa",
   "metadata": {},
   "outputs": [],
   "source": [
    "import pandas as pd\n",
    "import numpy as np\n",
    "import matplotlib.pyplot as plt\n",
    "import seaborn as sns\n",
    "#to ignore warnings\n",
    "import warnings\n",
    "warnings.filterwarnings('ignore')"
   ]
  },
  {
   "cell_type": "code",
   "execution_count": 4,
   "id": "e8f6e456-50e0-4792-b2d5-1296553a2577",
   "metadata": {},
   "outputs": [
    {
     "data": {
      "text/html": [
       "<div>\n",
       "<style scoped>\n",
       "    .dataframe tbody tr th:only-of-type {\n",
       "        vertical-align: middle;\n",
       "    }\n",
       "\n",
       "    .dataframe tbody tr th {\n",
       "        vertical-align: top;\n",
       "    }\n",
       "\n",
       "    .dataframe thead th {\n",
       "        text-align: right;\n",
       "    }\n",
       "</style>\n",
       "<table border=\"1\" class=\"dataframe\">\n",
       "  <thead>\n",
       "    <tr style=\"text-align: right;\">\n",
       "      <th></th>\n",
       "      <th>CustomerID</th>\n",
       "      <th>ProductID</th>\n",
       "      <th>Quantity</th>\n",
       "      <th>Price</th>\n",
       "      <th>TransactionDate</th>\n",
       "      <th>PaymentMethod</th>\n",
       "      <th>StoreLocation</th>\n",
       "      <th>ProductCategory</th>\n",
       "      <th>DiscountApplied(%)</th>\n",
       "      <th>TotalAmount</th>\n",
       "    </tr>\n",
       "  </thead>\n",
       "  <tbody>\n",
       "    <tr>\n",
       "      <th>0</th>\n",
       "      <td>109318</td>\n",
       "      <td>C</td>\n",
       "      <td>7</td>\n",
       "      <td>80.079844</td>\n",
       "      <td>12/26/2023 12:32</td>\n",
       "      <td>Cash</td>\n",
       "      <td>176 Andrew Cliffs\\nBaileyfort, HI 93354</td>\n",
       "      <td>Books</td>\n",
       "      <td>18.677100</td>\n",
       "      <td>455.862764</td>\n",
       "    </tr>\n",
       "    <tr>\n",
       "      <th>1</th>\n",
       "      <td>993229</td>\n",
       "      <td>C</td>\n",
       "      <td>4</td>\n",
       "      <td>75.195229</td>\n",
       "      <td>8/5/2023 0:00</td>\n",
       "      <td>Cash</td>\n",
       "      <td>11635 William Well Suite 809\\nEast Kara, MT 19483</td>\n",
       "      <td>Home Decor</td>\n",
       "      <td>14.121365</td>\n",
       "      <td>258.306546</td>\n",
       "    </tr>\n",
       "    <tr>\n",
       "      <th>2</th>\n",
       "      <td>579675</td>\n",
       "      <td>A</td>\n",
       "      <td>8</td>\n",
       "      <td>31.528816</td>\n",
       "      <td>3/11/2024 18:51</td>\n",
       "      <td>Cash</td>\n",
       "      <td>910 Mendez Ville Suite 909\\nPort Lauraland, MO...</td>\n",
       "      <td>Books</td>\n",
       "      <td>15.943701</td>\n",
       "      <td>212.015651</td>\n",
       "    </tr>\n",
       "    <tr>\n",
       "      <th>3</th>\n",
       "      <td>799826</td>\n",
       "      <td>D</td>\n",
       "      <td>5</td>\n",
       "      <td>98.880218</td>\n",
       "      <td>10/27/2023 22:00</td>\n",
       "      <td>PayPal</td>\n",
       "      <td>87522 Sharon Corners Suite 500\\nLake Tammy, MO...</td>\n",
       "      <td>Books</td>\n",
       "      <td>6.686337</td>\n",
       "      <td>461.343769</td>\n",
       "    </tr>\n",
       "    <tr>\n",
       "      <th>4</th>\n",
       "      <td>121413</td>\n",
       "      <td>A</td>\n",
       "      <td>7</td>\n",
       "      <td>93.188512</td>\n",
       "      <td>12/22/2023 11:38</td>\n",
       "      <td>Cash</td>\n",
       "      <td>0070 Michelle Island Suite 143\\nHoland, VA 80142</td>\n",
       "      <td>Electronics</td>\n",
       "      <td>4.030096</td>\n",
       "      <td>626.030484</td>\n",
       "    </tr>\n",
       "  </tbody>\n",
       "</table>\n",
       "</div>"
      ],
      "text/plain": [
       "   CustomerID ProductID  Quantity      Price   TransactionDate PaymentMethod  \\\n",
       "0      109318         C         7  80.079844  12/26/2023 12:32          Cash   \n",
       "1      993229         C         4  75.195229     8/5/2023 0:00          Cash   \n",
       "2      579675         A         8  31.528816   3/11/2024 18:51          Cash   \n",
       "3      799826         D         5  98.880218  10/27/2023 22:00        PayPal   \n",
       "4      121413         A         7  93.188512  12/22/2023 11:38          Cash   \n",
       "\n",
       "                                       StoreLocation ProductCategory  \\\n",
       "0            176 Andrew Cliffs\\nBaileyfort, HI 93354           Books   \n",
       "1  11635 William Well Suite 809\\nEast Kara, MT 19483      Home Decor   \n",
       "2  910 Mendez Ville Suite 909\\nPort Lauraland, MO...           Books   \n",
       "3  87522 Sharon Corners Suite 500\\nLake Tammy, MO...           Books   \n",
       "4   0070 Michelle Island Suite 143\\nHoland, VA 80142     Electronics   \n",
       "\n",
       "   DiscountApplied(%)  TotalAmount  \n",
       "0           18.677100   455.862764  \n",
       "1           14.121365   258.306546  \n",
       "2           15.943701   212.015651  \n",
       "3            6.686337   461.343769  \n",
       "4            4.030096   626.030484  "
      ]
     },
     "execution_count": 4,
     "metadata": {},
     "output_type": "execute_result"
    }
   ],
   "source": [
    "df = pd.read_csv(r'C:\\Users\\KU_0373\\Downloads\\Retail_Transaction_Dataset 1.csv')\n",
    "df.head()"
   ]
  },
  {
   "cell_type": "code",
   "execution_count": 50,
   "id": "bb63a525-74e9-4aba-ad92-e3a72079cc26",
   "metadata": {},
   "outputs": [
    {
     "data": {
      "text/html": [
       "<div>\n",
       "<style scoped>\n",
       "    .dataframe tbody tr th:only-of-type {\n",
       "        vertical-align: middle;\n",
       "    }\n",
       "\n",
       "    .dataframe tbody tr th {\n",
       "        vertical-align: top;\n",
       "    }\n",
       "\n",
       "    .dataframe thead th {\n",
       "        text-align: right;\n",
       "    }\n",
       "</style>\n",
       "<table border=\"1\" class=\"dataframe\">\n",
       "  <thead>\n",
       "    <tr style=\"text-align: right;\">\n",
       "      <th></th>\n",
       "      <th>CustomerID</th>\n",
       "      <th>ProductID</th>\n",
       "      <th>Quantity</th>\n",
       "      <th>Price</th>\n",
       "      <th>TransactionDate</th>\n",
       "      <th>PaymentMethod</th>\n",
       "      <th>StoreLocation</th>\n",
       "      <th>ProductCategory</th>\n",
       "      <th>DiscountApplied(%)</th>\n",
       "      <th>TotalAmount</th>\n",
       "    </tr>\n",
       "  </thead>\n",
       "  <tbody>\n",
       "    <tr>\n",
       "      <th>0</th>\n",
       "      <td>False</td>\n",
       "      <td>False</td>\n",
       "      <td>False</td>\n",
       "      <td>False</td>\n",
       "      <td>False</td>\n",
       "      <td>False</td>\n",
       "      <td>False</td>\n",
       "      <td>False</td>\n",
       "      <td>False</td>\n",
       "      <td>False</td>\n",
       "    </tr>\n",
       "    <tr>\n",
       "      <th>1</th>\n",
       "      <td>False</td>\n",
       "      <td>False</td>\n",
       "      <td>False</td>\n",
       "      <td>False</td>\n",
       "      <td>False</td>\n",
       "      <td>False</td>\n",
       "      <td>False</td>\n",
       "      <td>False</td>\n",
       "      <td>False</td>\n",
       "      <td>False</td>\n",
       "    </tr>\n",
       "    <tr>\n",
       "      <th>2</th>\n",
       "      <td>False</td>\n",
       "      <td>False</td>\n",
       "      <td>False</td>\n",
       "      <td>False</td>\n",
       "      <td>False</td>\n",
       "      <td>False</td>\n",
       "      <td>False</td>\n",
       "      <td>False</td>\n",
       "      <td>False</td>\n",
       "      <td>False</td>\n",
       "    </tr>\n",
       "    <tr>\n",
       "      <th>3</th>\n",
       "      <td>False</td>\n",
       "      <td>False</td>\n",
       "      <td>False</td>\n",
       "      <td>False</td>\n",
       "      <td>False</td>\n",
       "      <td>False</td>\n",
       "      <td>False</td>\n",
       "      <td>False</td>\n",
       "      <td>False</td>\n",
       "      <td>False</td>\n",
       "    </tr>\n",
       "    <tr>\n",
       "      <th>4</th>\n",
       "      <td>False</td>\n",
       "      <td>False</td>\n",
       "      <td>False</td>\n",
       "      <td>False</td>\n",
       "      <td>False</td>\n",
       "      <td>False</td>\n",
       "      <td>False</td>\n",
       "      <td>False</td>\n",
       "      <td>False</td>\n",
       "      <td>False</td>\n",
       "    </tr>\n",
       "    <tr>\n",
       "      <th>...</th>\n",
       "      <td>...</td>\n",
       "      <td>...</td>\n",
       "      <td>...</td>\n",
       "      <td>...</td>\n",
       "      <td>...</td>\n",
       "      <td>...</td>\n",
       "      <td>...</td>\n",
       "      <td>...</td>\n",
       "      <td>...</td>\n",
       "      <td>...</td>\n",
       "    </tr>\n",
       "    <tr>\n",
       "      <th>99995</th>\n",
       "      <td>False</td>\n",
       "      <td>False</td>\n",
       "      <td>False</td>\n",
       "      <td>False</td>\n",
       "      <td>False</td>\n",
       "      <td>False</td>\n",
       "      <td>False</td>\n",
       "      <td>False</td>\n",
       "      <td>False</td>\n",
       "      <td>False</td>\n",
       "    </tr>\n",
       "    <tr>\n",
       "      <th>99996</th>\n",
       "      <td>False</td>\n",
       "      <td>False</td>\n",
       "      <td>False</td>\n",
       "      <td>False</td>\n",
       "      <td>False</td>\n",
       "      <td>False</td>\n",
       "      <td>False</td>\n",
       "      <td>False</td>\n",
       "      <td>False</td>\n",
       "      <td>False</td>\n",
       "    </tr>\n",
       "    <tr>\n",
       "      <th>99997</th>\n",
       "      <td>False</td>\n",
       "      <td>False</td>\n",
       "      <td>False</td>\n",
       "      <td>False</td>\n",
       "      <td>False</td>\n",
       "      <td>False</td>\n",
       "      <td>False</td>\n",
       "      <td>False</td>\n",
       "      <td>False</td>\n",
       "      <td>False</td>\n",
       "    </tr>\n",
       "    <tr>\n",
       "      <th>99998</th>\n",
       "      <td>False</td>\n",
       "      <td>False</td>\n",
       "      <td>False</td>\n",
       "      <td>False</td>\n",
       "      <td>False</td>\n",
       "      <td>False</td>\n",
       "      <td>False</td>\n",
       "      <td>False</td>\n",
       "      <td>False</td>\n",
       "      <td>False</td>\n",
       "    </tr>\n",
       "    <tr>\n",
       "      <th>99999</th>\n",
       "      <td>False</td>\n",
       "      <td>False</td>\n",
       "      <td>False</td>\n",
       "      <td>False</td>\n",
       "      <td>False</td>\n",
       "      <td>False</td>\n",
       "      <td>False</td>\n",
       "      <td>False</td>\n",
       "      <td>False</td>\n",
       "      <td>False</td>\n",
       "    </tr>\n",
       "  </tbody>\n",
       "</table>\n",
       "<p>100000 rows × 10 columns</p>\n",
       "</div>"
      ],
      "text/plain": [
       "       CustomerID  ProductID  Quantity  Price  TransactionDate  PaymentMethod  \\\n",
       "0           False      False     False  False            False          False   \n",
       "1           False      False     False  False            False          False   \n",
       "2           False      False     False  False            False          False   \n",
       "3           False      False     False  False            False          False   \n",
       "4           False      False     False  False            False          False   \n",
       "...           ...        ...       ...    ...              ...            ...   \n",
       "99995       False      False     False  False            False          False   \n",
       "99996       False      False     False  False            False          False   \n",
       "99997       False      False     False  False            False          False   \n",
       "99998       False      False     False  False            False          False   \n",
       "99999       False      False     False  False            False          False   \n",
       "\n",
       "       StoreLocation  ProductCategory  DiscountApplied(%)  TotalAmount  \n",
       "0              False            False               False        False  \n",
       "1              False            False               False        False  \n",
       "2              False            False               False        False  \n",
       "3              False            False               False        False  \n",
       "4              False            False               False        False  \n",
       "...              ...              ...                 ...          ...  \n",
       "99995          False            False               False        False  \n",
       "99996          False            False               False        False  \n",
       "99997          False            False               False        False  \n",
       "99998          False            False               False        False  \n",
       "99999          False            False               False        False  \n",
       "\n",
       "[100000 rows x 10 columns]"
      ]
     },
     "execution_count": 50,
     "metadata": {},
     "output_type": "execute_result"
    }
   ],
   "source": [
    "df.isna()"
   ]
  },
  {
   "cell_type": "code",
   "execution_count": 38,
   "id": "1a5309b7-3356-4d0d-a7d0-448dc4235626",
   "metadata": {},
   "outputs": [
    {
     "data": {
      "text/html": [
       "<div>\n",
       "<style scoped>\n",
       "    .dataframe tbody tr th:only-of-type {\n",
       "        vertical-align: middle;\n",
       "    }\n",
       "\n",
       "    .dataframe tbody tr th {\n",
       "        vertical-align: top;\n",
       "    }\n",
       "\n",
       "    .dataframe thead th {\n",
       "        text-align: right;\n",
       "    }\n",
       "</style>\n",
       "<table border=\"1\" class=\"dataframe\">\n",
       "  <thead>\n",
       "    <tr style=\"text-align: right;\">\n",
       "      <th></th>\n",
       "      <th>CustomerID</th>\n",
       "      <th>Quantity</th>\n",
       "      <th>Price</th>\n",
       "      <th>DiscountApplied(%)</th>\n",
       "      <th>TotalAmount</th>\n",
       "    </tr>\n",
       "  </thead>\n",
       "  <tbody>\n",
       "    <tr>\n",
       "      <th>count</th>\n",
       "      <td>100000.000000</td>\n",
       "      <td>100000.000000</td>\n",
       "      <td>100000.000000</td>\n",
       "      <td>100000.000000</td>\n",
       "      <td>100000.000000</td>\n",
       "    </tr>\n",
       "    <tr>\n",
       "      <th>mean</th>\n",
       "      <td>500463.982180</td>\n",
       "      <td>5.009290</td>\n",
       "      <td>55.067344</td>\n",
       "      <td>10.020155</td>\n",
       "      <td>248.334955</td>\n",
       "    </tr>\n",
       "    <tr>\n",
       "      <th>std</th>\n",
       "      <td>288460.917524</td>\n",
       "      <td>2.579808</td>\n",
       "      <td>25.971567</td>\n",
       "      <td>5.779534</td>\n",
       "      <td>184.554792</td>\n",
       "    </tr>\n",
       "    <tr>\n",
       "      <th>min</th>\n",
       "      <td>14.000000</td>\n",
       "      <td>1.000000</td>\n",
       "      <td>10.000430</td>\n",
       "      <td>0.000046</td>\n",
       "      <td>8.274825</td>\n",
       "    </tr>\n",
       "    <tr>\n",
       "      <th>25%</th>\n",
       "      <td>250693.750000</td>\n",
       "      <td>3.000000</td>\n",
       "      <td>32.549474</td>\n",
       "      <td>5.001013</td>\n",
       "      <td>95.163418</td>\n",
       "    </tr>\n",
       "    <tr>\n",
       "      <th>50%</th>\n",
       "      <td>499679.000000</td>\n",
       "      <td>5.000000</td>\n",
       "      <td>55.116789</td>\n",
       "      <td>10.030353</td>\n",
       "      <td>200.368393</td>\n",
       "    </tr>\n",
       "    <tr>\n",
       "      <th>75%</th>\n",
       "      <td>751104.750000</td>\n",
       "      <td>7.000000</td>\n",
       "      <td>77.456763</td>\n",
       "      <td>15.018367</td>\n",
       "      <td>362.009980</td>\n",
       "    </tr>\n",
       "    <tr>\n",
       "      <th>max</th>\n",
       "      <td>999997.000000</td>\n",
       "      <td>9.000000</td>\n",
       "      <td>99.999284</td>\n",
       "      <td>19.999585</td>\n",
       "      <td>896.141242</td>\n",
       "    </tr>\n",
       "  </tbody>\n",
       "</table>\n",
       "</div>"
      ],
      "text/plain": [
       "          CustomerID       Quantity          Price  DiscountApplied(%)  \\\n",
       "count  100000.000000  100000.000000  100000.000000       100000.000000   \n",
       "mean   500463.982180       5.009290      55.067344           10.020155   \n",
       "std    288460.917524       2.579808      25.971567            5.779534   \n",
       "min        14.000000       1.000000      10.000430            0.000046   \n",
       "25%    250693.750000       3.000000      32.549474            5.001013   \n",
       "50%    499679.000000       5.000000      55.116789           10.030353   \n",
       "75%    751104.750000       7.000000      77.456763           15.018367   \n",
       "max    999997.000000       9.000000      99.999284           19.999585   \n",
       "\n",
       "         TotalAmount  \n",
       "count  100000.000000  \n",
       "mean      248.334955  \n",
       "std       184.554792  \n",
       "min         8.274825  \n",
       "25%        95.163418  \n",
       "50%       200.368393  \n",
       "75%       362.009980  \n",
       "max       896.141242  "
      ]
     },
     "execution_count": 38,
     "metadata": {},
     "output_type": "execute_result"
    }
   ],
   "source": [
    "df.describe()"
   ]
  },
  {
   "cell_type": "code",
   "execution_count": 39,
   "id": "e0d1b58e-ac04-4713-a60d-41f9aa0e2fa1",
   "metadata": {},
   "outputs": [
    {
     "name": "stdout",
     "output_type": "stream",
     "text": [
      "<class 'pandas.core.frame.DataFrame'>\n",
      "RangeIndex: 100000 entries, 0 to 99999\n",
      "Data columns (total 10 columns):\n",
      " #   Column              Non-Null Count   Dtype  \n",
      "---  ------              --------------   -----  \n",
      " 0   CustomerID          100000 non-null  int64  \n",
      " 1   ProductID           100000 non-null  object \n",
      " 2   Quantity            100000 non-null  int64  \n",
      " 3   Price               100000 non-null  float64\n",
      " 4   TransactionDate     100000 non-null  object \n",
      " 5   PaymentMethod       100000 non-null  object \n",
      " 6   StoreLocation       100000 non-null  object \n",
      " 7   ProductCategory     100000 non-null  object \n",
      " 8   DiscountApplied(%)  100000 non-null  float64\n",
      " 9   TotalAmount         100000 non-null  float64\n",
      "dtypes: float64(3), int64(2), object(5)\n",
      "memory usage: 7.6+ MB\n"
     ]
    }
   ],
   "source": [
    "# df = df[['CustomerID', 'Quantity', 'Price', 'DiscountApplied(%)', 'TotalAmount']]\n",
    "df.info()"
   ]
  },
  {
   "cell_type": "code",
   "execution_count": 40,
   "id": "9b98c641-e9d1-44bc-90ee-c79e6a06c452",
   "metadata": {},
   "outputs": [
    {
     "data": {
      "text/plain": [
       "CustomerID             95215\n",
       "ProductID                  4\n",
       "Quantity                   9\n",
       "Price                 100000\n",
       "TransactionDate        91025\n",
       "PaymentMethod              4\n",
       "StoreLocation         100000\n",
       "ProductCategory            4\n",
       "DiscountApplied(%)    100000\n",
       "TotalAmount            99998\n",
       "dtype: int64"
      ]
     },
     "execution_count": 40,
     "metadata": {},
     "output_type": "execute_result"
    }
   ],
   "source": [
    "# no of unique value in each column\n",
    "df.nunique()"
   ]
  },
  {
   "cell_type": "code",
   "execution_count": 41,
   "id": "c2783647-5907-49a5-928a-7b642f04c19b",
   "metadata": {},
   "outputs": [
    {
     "name": "stdout",
     "output_type": "stream",
     "text": [
      "CustomerID            0\n",
      "ProductID             0\n",
      "Quantity              0\n",
      "Price                 0\n",
      "TransactionDate       0\n",
      "PaymentMethod         0\n",
      "StoreLocation         0\n",
      "ProductCategory       0\n",
      "DiscountApplied(%)    0\n",
      "TotalAmount           0\n",
      "dtype: int64\n"
     ]
    }
   ],
   "source": [
    "# to dentify null values\n",
    "print(df.isnull().sum())"
   ]
  },
  {
   "cell_type": "code",
   "execution_count": 51,
   "id": "6f53b7ba-dec1-490f-993d-18ba3470e47b",
   "metadata": {},
   "outputs": [],
   "source": [
    "# Univariate analysis can be done for both Categorical and Numerical variables.\n",
    "# Categorical variables can be visualized using a Count plot, Bar Chart, Pie Plot, etc.\n",
    "# Numerical Variables can be visualized using Histogram, Box Plot, Density Plot, etc"
   ]
  },
  {
   "cell_type": "markdown",
   "id": "4547efd1-5eab-44c2-b08b-ac9c4b745e82",
   "metadata": {},
   "source": [
    "## Before we do EDA, lets separate Numerical and categorical variables for easy analysis"
   ]
  },
  {
   "cell_type": "code",
   "execution_count": 52,
   "id": "a28bdff0-531c-4993-a332-24ef7c93ce60",
   "metadata": {},
   "outputs": [
    {
     "name": "stdout",
     "output_type": "stream",
     "text": [
      "Categorical Variables:\n",
      "Index(['ProductID', 'TransactionDate', 'PaymentMethod', 'StoreLocation',\n",
      "       'ProductCategory'],\n",
      "      dtype='object')\n",
      "Numerical Variables:\n",
      "['CustomerID', 'Quantity', 'Price', 'DiscountApplied(%)', 'TotalAmount']\n"
     ]
    }
   ],
   "source": [
    "cat_cols=df.select_dtypes(include=['object']).columns\n",
    "num_cols = df.select_dtypes(include=np.number).columns.tolist()\n",
    "print(\"Categorical Variables:\")\n",
    "print(cat_cols)\n",
    "print(\"Numerical Variables:\")\n",
    "print(num_cols)"
   ]
  },
  {
   "cell_type": "markdown",
   "id": "ad769799-745f-4bc6-8627-d7befbf52841",
   "metadata": {},
   "source": [
    "## Univariate Analysis"
   ]
  },
  {
   "cell_type": "code",
   "execution_count": 58,
   "id": "e4f66d69-5149-4929-9eef-b51d6f2260de",
   "metadata": {},
   "outputs": [
    {
     "name": "stdout",
     "output_type": "stream",
     "text": [
      "CustomerID\n",
      "Skew : -0.0\n"
     ]
    },
    {
     "data": {
      "image/png": "[encoded data removed]",
      "text/plain": [
       "<Figure size 1500x400 with 2 Axes>"
      ]
     },
     "metadata": {},
     "output_type": "display_data"
    },
    {
     "name": "stdout",
     "output_type": "stream",
     "text": [
      "Quantity\n",
      "Skew : -0.01\n"
     ]
    },
    {
     "data": {
      "image/png": "[encoded data removed]",
      "text/plain": [
       "<Figure size 1500x400 with 2 Axes>"
      ]
     },
     "metadata": {},
     "output_type": "display_data"
    },
    {
     "name": "stdout",
     "output_type": "stream",
     "text": [
      "Price\n",
      "Skew : -0.0\n"
     ]
    },
    {
     "data": {
      "image/png": "[encoded data removed]",
      "text/plain": [
       "<Figure size 1500x400 with 2 Axes>"
      ]
     },
     "metadata": {},
     "output_type": "display_data"
    },
    {
     "name": "stdout",
     "output_type": "stream",
     "text": [
      "DiscountApplied(%)\n",
      "Skew : -0.0\n"
     ]
    },
    {
     "data": {
      "image/png": "[encoded data removed]",
      "text/plain": [
       "<Figure size 1500x400 with 2 Axes>"
      ]
     },
     "metadata": {},
     "output_type": "display_data"
    },
    {
     "name": "stdout",
     "output_type": "stream",
     "text": [
      "TotalAmount\n",
      "Skew : 0.9\n"
     ]
    },
    {
     "data": {
      "image/png": "[encoded data removed]",
      "text/plain": [
       "<Figure size 1500x400 with 2 Axes>"
      ]
     },
     "metadata": {},
     "output_type": "display_data"
    }
   ],
   "source": [
    "# Numerical variables\n",
    "for col in num_cols:\n",
    "    print(col)\n",
    "    print('Skew :', round(df[col].skew(), 2))\n",
    "    plt.figure(figsize = (15, 4))\n",
    "    plt.subplot(1, 2, 1)\n",
    "    df[col].hist(grid=False)\n",
    "    plt.ylabel('count')\n",
    "    plt.subplot(1, 2, 2)\n",
    "    sns.boxplot(x=df[col])\n",
    "    plt.show()"
   ]
  },
  {
   "cell_type": "code",
   "execution_count": 62,
   "id": "96789deb-1bd5-4525-b4b9-cac20e733934",
   "metadata": {},
   "outputs": [],
   "source": [
    "# # Categorical Data\n",
    "# # 'ProductID', 'TransactionDate', 'PaymentMethod', 'StoreLocation','ProductCategory']\n",
    "# fig, axes = plt.subplots(3, 2, figsize = (18, 18))\n",
    "# fig.suptitle('Bar plot for all categorical variables in the dataset')\n",
    "# sns.countplot(ax = axes[0, 0], x = 'ProductID', data = df, color = 'blue', \n",
    "#               order = df['ProductID'].value_counts().index);\n",
    "# sns.countplot(ax = axes[0, 1], x = 'TransactionDate', data = df, color = 'blue', \n",
    "#               order = df['TransactionDate'].value_counts().index);\n",
    "# sns.countplot(ax = axes[1, 0], x = 'PaymentMethod', data = df, color = 'blue', \n",
    "#               order = df['PaymentMethod'].value_counts().index);\n",
    "# sns.countplot(ax = axes[1, 1], x = 'StoreLocation', data = df, color = 'blue', \n",
    "#               order = df['StoreLocation'].value_counts().index);\n",
    "# sns.countplot(ax = axes[2, 0], x = 'ProductCategory', data = df, color = 'blue', \n",
    "#               order = df['ProductCategory'].head(20).value_counts().index);\n",
    "# axes[1][1].tick_params(labelrotation=45);\n",
    "# axes[2][0].tick_params(labelrotation=90);\n",
    "# axes[2][1].tick_params(labelrotation=90);"
   ]
  },
  {
   "cell_type": "markdown",
   "id": "c677d95a-67f1-425a-8fe3-70346c32220a",
   "metadata": {},
   "source": [
    "## Distribution Analysis by Location"
   ]
  },
  {
   "cell_type": "markdown",
   "id": "072ef4a2-12d2-42c1-830c-3cb7aef161d3",
   "metadata": {},
   "source": [
    "### 1.Analyze the distribution of customers by StoreLocation."
   ]
  },
  {
   "cell_type": "code",
   "execution_count": 13,
   "id": "eeaaf692-5a7a-4341-ae03-0f4c2047fc31",
   "metadata": {},
   "outputs": [
    {
     "data": {
      "image/png": "[encoded data removed]",
      "text/plain": [
       "<Figure size 1600x600 with 1 Axes>"
      ]
     },
     "metadata": {},
     "output_type": "display_data"
    }
   ],
   "source": [
    "# Extract the state from the StoreLocation\n",
    "# df['State'] = df['StoreLocation'].str.extract(r',\\s(\\w{2})\\s\\d{5}$')\n",
    "\n",
    "# # Calculate the distribution of customers by state\n",
    "# state_distribution = df['State'].value_counts()\n",
    "\n",
    "# Plot the distribution of customers by state\n",
    "plt.figure(figsize=(16, 6))\n",
    "sns.countplot(x='StoreLocation', data=df, order=df['StoreLocation'].value_counts().index)\n",
    "plt.title('Distribution of Customers by State')\n",
    "plt.xlabel('State')\n",
    "plt.ylabel('Number of Customers')\n",
    "plt.show()"
   ]
  },
  {
   "cell_type": "code",
   "execution_count": 65,
   "id": "8dbbc630-a462-457a-9565-436926a73293",
   "metadata": {},
   "outputs": [
    {
     "name": "stdout",
     "output_type": "stream",
     "text": [
      "<class 'pandas.core.frame.DataFrame'>\n",
      "RangeIndex: 100000 entries, 0 to 99999\n",
      "Data columns (total 11 columns):\n",
      " #   Column              Non-Null Count   Dtype  \n",
      "---  ------              --------------   -----  \n",
      " 0   CustomerID          100000 non-null  int64  \n",
      " 1   ProductID           100000 non-null  object \n",
      " 2   Quantity            100000 non-null  int64  \n",
      " 3   Price               100000 non-null  float64\n",
      " 4   TransactionDate     100000 non-null  object \n",
      " 5   PaymentMethod       100000 non-null  object \n",
      " 6   StoreLocation       100000 non-null  object \n",
      " 7   ProductCategory     100000 non-null  object \n",
      " 8   DiscountApplied(%)  100000 non-null  float64\n",
      " 9   TotalAmount         100000 non-null  float64\n",
      " 10  State               89194 non-null   object \n",
      "dtypes: float64(3), int64(2), object(6)\n",
      "memory usage: 8.4+ MB\n"
     ]
    }
   ],
   "source": [
    "df.info()"
   ]
  },
  {
   "cell_type": "code",
   "execution_count": 68,
   "id": "399f3605-3879-4901-85be-0d914a28c2ce",
   "metadata": {},
   "outputs": [
    {
     "data": {
      "text/plain": [
       "CustomerID                0\n",
       "ProductID                 0\n",
       "Quantity                  0\n",
       "Price                     0\n",
       "TransactionDate           0\n",
       "PaymentMethod             0\n",
       "StoreLocation             0\n",
       "ProductCategory           0\n",
       "DiscountApplied(%)        0\n",
       "TotalAmount               0\n",
       "State                 10806\n",
       "dtype: int64"
      ]
     },
     "execution_count": 68,
     "metadata": {},
     "output_type": "execute_result"
    }
   ],
   "source": [
    "df.isna().sum()"
   ]
  },
  {
   "cell_type": "code",
   "execution_count": 9,
   "id": "b181332e-3411-4ca7-a335-6cfb42c8010c",
   "metadata": {},
   "outputs": [
    {
     "data": {
      "text/html": [
       "<div>\n",
       "<style scoped>\n",
       "    .dataframe tbody tr th:only-of-type {\n",
       "        vertical-align: middle;\n",
       "    }\n",
       "\n",
       "    .dataframe tbody tr th {\n",
       "        vertical-align: top;\n",
       "    }\n",
       "\n",
       "    .dataframe thead th {\n",
       "        text-align: right;\n",
       "    }\n",
       "</style>\n",
       "<table border=\"1\" class=\"dataframe\">\n",
       "  <thead>\n",
       "    <tr style=\"text-align: right;\">\n",
       "      <th></th>\n",
       "      <th>CustomerID</th>\n",
       "      <th>ProductID</th>\n",
       "      <th>Quantity</th>\n",
       "      <th>Price</th>\n",
       "      <th>TransactionDate</th>\n",
       "      <th>PaymentMethod</th>\n",
       "      <th>StoreLocation</th>\n",
       "      <th>ProductCategory</th>\n",
       "      <th>DiscountApplied(%)</th>\n",
       "      <th>TotalAmount</th>\n",
       "      <th>State</th>\n",
       "      <th>City</th>\n",
       "    </tr>\n",
       "  </thead>\n",
       "  <tbody>\n",
       "    <tr>\n",
       "      <th>0</th>\n",
       "      <td>109318</td>\n",
       "      <td>C</td>\n",
       "      <td>7</td>\n",
       "      <td>80.079844</td>\n",
       "      <td>12/26/2023 12:32</td>\n",
       "      <td>Cash</td>\n",
       "      <td>176 Andrew Cliffs\\nBaileyfort, HI 93354</td>\n",
       "      <td>Books</td>\n",
       "      <td>18.677100</td>\n",
       "      <td>455.862764</td>\n",
       "      <td>HI</td>\n",
       "      <td>176 Andrew Cliffs</td>\n",
       "    </tr>\n",
       "    <tr>\n",
       "      <th>1</th>\n",
       "      <td>993229</td>\n",
       "      <td>C</td>\n",
       "      <td>4</td>\n",
       "      <td>75.195229</td>\n",
       "      <td>8/5/2023 0:00</td>\n",
       "      <td>Cash</td>\n",
       "      <td>11635 William Well Suite 809\\nEast Kara, MT 19483</td>\n",
       "      <td>Home Decor</td>\n",
       "      <td>14.121365</td>\n",
       "      <td>258.306546</td>\n",
       "      <td>MT</td>\n",
       "      <td>11635 William Well Suite 809</td>\n",
       "    </tr>\n",
       "    <tr>\n",
       "      <th>2</th>\n",
       "      <td>579675</td>\n",
       "      <td>A</td>\n",
       "      <td>8</td>\n",
       "      <td>31.528816</td>\n",
       "      <td>3/11/2024 18:51</td>\n",
       "      <td>Cash</td>\n",
       "      <td>910 Mendez Ville Suite 909\\nPort Lauraland, MO...</td>\n",
       "      <td>Books</td>\n",
       "      <td>15.943701</td>\n",
       "      <td>212.015651</td>\n",
       "      <td>MO</td>\n",
       "      <td>910 Mendez Ville Suite 909</td>\n",
       "    </tr>\n",
       "    <tr>\n",
       "      <th>3</th>\n",
       "      <td>799826</td>\n",
       "      <td>D</td>\n",
       "      <td>5</td>\n",
       "      <td>98.880218</td>\n",
       "      <td>10/27/2023 22:00</td>\n",
       "      <td>PayPal</td>\n",
       "      <td>87522 Sharon Corners Suite 500\\nLake Tammy, MO...</td>\n",
       "      <td>Books</td>\n",
       "      <td>6.686337</td>\n",
       "      <td>461.343769</td>\n",
       "      <td>MO</td>\n",
       "      <td>87522 Sharon Corners Suite 500</td>\n",
       "    </tr>\n",
       "    <tr>\n",
       "      <th>4</th>\n",
       "      <td>121413</td>\n",
       "      <td>A</td>\n",
       "      <td>7</td>\n",
       "      <td>93.188512</td>\n",
       "      <td>12/22/2023 11:38</td>\n",
       "      <td>Cash</td>\n",
       "      <td>0070 Michelle Island Suite 143\\nHoland, VA 80142</td>\n",
       "      <td>Electronics</td>\n",
       "      <td>4.030096</td>\n",
       "      <td>626.030484</td>\n",
       "      <td>VA</td>\n",
       "      <td>0070 Michelle Island Suite 143</td>\n",
       "    </tr>\n",
       "  </tbody>\n",
       "</table>\n",
       "</div>"
      ],
      "text/plain": [
       "   CustomerID ProductID  Quantity      Price   TransactionDate PaymentMethod  \\\n",
       "0      109318         C         7  80.079844  12/26/2023 12:32          Cash   \n",
       "1      993229         C         4  75.195229     8/5/2023 0:00          Cash   \n",
       "2      579675         A         8  31.528816   3/11/2024 18:51          Cash   \n",
       "3      799826         D         5  98.880218  10/27/2023 22:00        PayPal   \n",
       "4      121413         A         7  93.188512  12/22/2023 11:38          Cash   \n",
       "\n",
       "                                       StoreLocation ProductCategory  \\\n",
       "0            176 Andrew Cliffs\\nBaileyfort, HI 93354           Books   \n",
       "1  11635 William Well Suite 809\\nEast Kara, MT 19483      Home Decor   \n",
       "2  910 Mendez Ville Suite 909\\nPort Lauraland, MO...           Books   \n",
       "3  87522 Sharon Corners Suite 500\\nLake Tammy, MO...           Books   \n",
       "4   0070 Michelle Island Suite 143\\nHoland, VA 80142     Electronics   \n",
       "\n",
       "   DiscountApplied(%)  TotalAmount State                            City  \n",
       "0           18.677100   455.862764    HI               176 Andrew Cliffs  \n",
       "1           14.121365   258.306546    MT    11635 William Well Suite 809  \n",
       "2           15.943701   212.015651    MO      910 Mendez Ville Suite 909  \n",
       "3            6.686337   461.343769    MO  87522 Sharon Corners Suite 500  \n",
       "4            4.030096   626.030484    VA  0070 Michelle Island Suite 143  "
      ]
     },
     "execution_count": 9,
     "metadata": {},
     "output_type": "execute_result"
    }
   ],
   "source": [
    "# Extract the state from the StoreLocation\n",
    "df['City'] = df['StoreLocation'].apply(lambda x: x.split('\\n')[0].split(',')[0])\n",
    "df.head()"
   ]
  },
  {
   "cell_type": "code",
   "execution_count": 12,
   "id": "474f719c-a80f-4c44-beae-97c73c851f26",
   "metadata": {},
   "outputs": [
    {
     "data": {
      "text/plain": [
       "CustomerID                0\n",
       "ProductID                 0\n",
       "Quantity                  0\n",
       "Price                     0\n",
       "TransactionDate           0\n",
       "PaymentMethod             0\n",
       "StoreLocation             0\n",
       "ProductCategory           0\n",
       "DiscountApplied(%)        0\n",
       "TotalAmount               0\n",
       "State                 10806\n",
       "City                      0\n",
       "dtype: int64"
      ]
     },
     "execution_count": 12,
     "metadata": {},
     "output_type": "execute_result"
    }
   ],
   "source": [
    "df.isna().sum()"
   ]
  },
  {
   "cell_type": "code",
   "execution_count": 17,
   "id": "3beb9e34-e9a3-4874-b052-c5f83306954c",
   "metadata": {},
   "outputs": [
    {
     "data": {
      "text/plain": [
       "StoreLocation\n",
       "176 Andrew Cliffs\\nBaileyfort, HI 93354                 1\n",
       "PSC 4219, Box 5133\\nAPO AA 16783                        1\n",
       "Unit 8427 Box 8072\\nDPO AA 34466                        1\n",
       "743 Kristin Locks\\nWest Kirkville, MI 17640             1\n",
       "993 Juan Forge\\nKiaraview, FL 15574                     1\n",
       "                                                       ..\n",
       "4416 Mathew Key Apt. 364\\nWest Kimberly, RI 13134       1\n",
       "631 Gonzalez Extension\\nMelodymouth, MP 47762           1\n",
       "3998 Ballard Row\\nPetersenfurt, GA 88189                1\n",
       "580 Robert Junctions Apt. 226\\nWilliamston, OK 96883    1\n",
       "8046 Hull Drive\\nPaulstad, GU 87218                     1\n",
       "Name: count, Length: 100000, dtype: int64"
      ]
     },
     "execution_count": 17,
     "metadata": {},
     "output_type": "execute_result"
    }
   ],
   "source": [
    "df['StoreLocation'].value_counts()"
   ]
  },
  {
   "cell_type": "code",
   "execution_count": 19,
   "id": "9239ba90-b9e2-4a3c-ac28-95dd9743d47d",
   "metadata": {},
   "outputs": [
    {
     "data": {
      "text/plain": [
       "CustomerID             95215\n",
       "ProductID                  4\n",
       "Quantity                   9\n",
       "Price                 100000\n",
       "TransactionDate        91025\n",
       "PaymentMethod              4\n",
       "StoreLocation         100000\n",
       "ProductCategory            4\n",
       "DiscountApplied(%)    100000\n",
       "TotalAmount            99998\n",
       "State                     59\n",
       "City                   97643\n",
       "dtype: int64"
      ]
     },
     "execution_count": 19,
     "metadata": {},
     "output_type": "execute_result"
    }
   ],
   "source": [
    "df.nunique()"
   ]
  },
  {
   "cell_type": "code",
   "execution_count": null,
   "id": "07140117-74cc-429e-8449-3566ab912b43",
   "metadata": {},
   "outputs": [],
   "source": []
  }
 ],
 "metadata": {
  "kernelspec": {
   "display_name": "Python 3 (ipykernel)",
   "language": "python",
   "name": "python3"
  },
  "language_info": {
   "codemirror_mode": {
    "name": "ipython",
    "version": 3
   },
   "file_extension": ".py",
   "mimetype": "text/x-python",
   "name": "python",
   "nbconvert_exporter": "python",
   "pygments_lexer": "ipython3",
   "version": "3.10.5"
  }
 },
 "nbformat": 4,
 "nbformat_minor": 5
}
